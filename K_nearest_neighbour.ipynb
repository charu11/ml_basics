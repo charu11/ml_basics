{
  "nbformat": 4,
  "nbformat_minor": 0,
  "metadata": {
    "colab": {
      "name": "K_nearest_neighbour.ipynb",
      "provenance": [],
      "private_outputs": true,
      "collapsed_sections": [],
      "mount_file_id": "1SgWZPpXlq3LVfM7RPq6FvSFjCVNExJrw",
      "authorship_tag": "ABX9TyPNIT3s2DSjzfS4pnKmr4HU",
      "include_colab_link": true
    },
    "kernelspec": {
      "name": "python3",
      "display_name": "Python 3"
    }
  },
  "cells": [
    {
      "cell_type": "markdown",
      "metadata": {
        "id": "view-in-github",
        "colab_type": "text"
      },
      "source": [
        "<a href=\"https://colab.research.google.com/github/charu11/ml_basics/blob/ml_basic/K_nearest_neighbour.ipynb\" target=\"_parent\"><img src=\"https://colab.research.google.com/assets/colab-badge.svg\" alt=\"Open In Colab\"/></a>"
      ]
    },
    {
      "cell_type": "code",
      "metadata": {
        "id": "Sytig89ycSdw",
        "colab_type": "code",
        "colab": {}
      },
      "source": [
        "import numpy as np\n",
        "from sklearn import preprocessing, neighbors\n",
        "from sklearn.model_selection import train_test_split\n",
        "import pandas as pd"
      ],
      "execution_count": 0,
      "outputs": []
    },
    {
      "cell_type": "code",
      "metadata": {
        "id": "nPj2E4jIpG_I",
        "colab_type": "code",
        "colab": {}
      },
      "source": [
        "df = pd.read_csv('/content/drive/My Drive/ML_with_pyhton/breast-cancer-wisconsin.data')\n",
        "df.replace('?', -99999, inplace=True)\n",
        "df.drop(['id'], 1, inplace=True)"
      ],
      "execution_count": 0,
      "outputs": []
    },
    {
      "cell_type": "code",
      "metadata": {
        "id": "Lppu8Y51p6GB",
        "colab_type": "code",
        "colab": {}
      },
      "source": [
        "X = np.array(df.drop([' class'], 1))\n",
        "y = np.array(df[' class'])\n",
        "\n"
      ],
      "execution_count": 0,
      "outputs": []
    },
    {
      "cell_type": "code",
      "metadata": {
        "id": "Z05hbbbaxr8r",
        "colab_type": "code",
        "colab": {}
      },
      "source": [
        "X_train, X_test, y_train, y_test = train_test_split(X, y, test_size=0.2)"
      ],
      "execution_count": 0,
      "outputs": []
    },
    {
      "cell_type": "code",
      "metadata": {
        "id": "mx_lrtIDx_zq",
        "colab_type": "code",
        "colab": {}
      },
      "source": [
        "clf = neighbors.KNeighborsClassifier()\n",
        "\n",
        "# train the classifier\n",
        "clf.fit(X_train, y_train)"
      ],
      "execution_count": 0,
      "outputs": []
    },
    {
      "cell_type": "code",
      "metadata": {
        "id": "HwgLU43YyUCy",
        "colab_type": "code",
        "colab": {}
      },
      "source": [
        "# test\n",
        "\n",
        "accuracy = clf.score(X_test, y_test)\n",
        "print(accuracy)"
      ],
      "execution_count": 0,
      "outputs": []
    },
    {
      "cell_type": "code",
      "metadata": {
        "id": "kSIBJ_v-zbBc",
        "colab_type": "code",
        "colab": {}
      },
      "source": [
        "example_measures = np.array([4,2,1,1,1,2,3,2,1])\n",
        "example_measures = example_measures.reshape(1, -1)\n",
        "\n"
      ],
      "execution_count": 0,
      "outputs": []
    },
    {
      "cell_type": "code",
      "metadata": {
        "id": "dYVmimcczkwz",
        "colab_type": "code",
        "colab": {}
      },
      "source": [
        "prediction = clf.predict(example_measures)\n",
        "print(prediction)"
      ],
      "execution_count": 0,
      "outputs": []
    }
  ]
}