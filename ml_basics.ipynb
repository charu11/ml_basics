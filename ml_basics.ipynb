{
  "nbformat": 4,
  "nbformat_minor": 0,
  "metadata": {
    "colab": {
      "name": "ml_basics.ipynb",
      "provenance": [],
      "authorship_tag": "ABX9TyNYBmsYnGdMhMvuI4ILK0Yf",
      "include_colab_link": true
    },
    "kernelspec": {
      "name": "python3",
      "display_name": "Python 3"
    }
  },
  "cells": [
    {
      "cell_type": "markdown",
      "metadata": {
        "id": "view-in-github",
        "colab_type": "text"
      },
      "source": [
        "<a href=\"https://colab.research.google.com/github/charu11/ml_basics/blob/ml_basic/ml_basics.ipynb\" target=\"_parent\"><img src=\"https://colab.research.google.com/assets/colab-badge.svg\" alt=\"Open In Colab\"/></a>"
      ]
    },
    {
      "cell_type": "code",
      "metadata": {
        "id": "nup6Ds4WXNXL",
        "colab_type": "code",
        "colab": {
          "base_uri": "https://localhost:8080/",
          "height": 168
        },
        "outputId": "859ce5dd-7970-4a4a-d82d-057eb5a8e2b2"
      },
      "source": [
        "import pandas as pd\n",
        "import quandl\n",
        "import numpy as np\n",
        "\n",
        "df = quandl.get(\"WIKI/GOOGL\", authtoken = '5rQHyxpr4Y5gKcqKncMR')\n",
        "\n",
        "print(df.head())"
      ],
      "execution_count": 20,
      "outputs": [
        {
          "output_type": "stream",
          "text": [
            "              Open    High     Low  ...   Adj. Low  Adj. Close  Adj. Volume\n",
            "Date                                ...                                    \n",
            "2004-08-19  100.01  104.06   95.96  ...  48.128568   50.322842   44659000.0\n",
            "2004-08-20  101.01  109.08  100.50  ...  50.405597   54.322689   22834300.0\n",
            "2004-08-23  110.76  113.48  109.05  ...  54.693835   54.869377   18256100.0\n",
            "2004-08-24  111.24  111.60  103.57  ...  51.945350   52.597363   15247300.0\n",
            "2004-08-25  104.76  108.00  103.88  ...  52.100830   53.164113    9188600.0\n",
            "\n",
            "[5 rows x 12 columns]\n"
          ],
          "name": "stdout"
        }
      ]
    },
    {
      "cell_type": "code",
      "metadata": {
        "id": "Oj8XG3D3swka",
        "colab_type": "code",
        "colab": {
          "base_uri": "https://localhost:8080/",
          "height": 134
        },
        "outputId": "275c490c-5a30-469c-d9f1-ffc830801da5"
      },
      "source": [
        "df = df[['Adj. Open',  'Adj. High',  'Adj. Low',  'Adj. Close', 'Adj. Volume']]\n",
        "df['HL_PCT'] = (df['Adj. High'] - df['Adj. Low']) / df['Adj. Close'] * 100.0\n",
        "df['PCT_change'] = (df['Adj. Close'] - df['Adj. Open']) / df['Adj. Open'] * 100.0\n",
        "df = df[['Adj. Close', 'HL_PCT', 'PCT_change', 'Adj. Volume']]\n",
        "print(df.head())"
      ],
      "execution_count": 8,
      "outputs": [
        {
          "output_type": "stream",
          "text": [
            "            Adj. Close    HL_PCT  PCT_change  Adj. Volume\n",
            "Date                                                     \n",
            "2004-08-19   50.322842  8.072956    0.324968   44659000.0\n",
            "2004-08-20   54.322689  7.921706    7.227007   22834300.0\n",
            "2004-08-23   54.869377  4.049360   -1.227880   18256100.0\n",
            "2004-08-24   52.597363  7.657099   -5.726357   15247300.0\n",
            "2004-08-25   53.164113  3.886792    1.183658    9188600.0\n"
          ],
          "name": "stdout"
        }
      ]
    },
    {
      "cell_type": "code",
      "metadata": {
        "id": "wRn0Y9KvuJLv",
        "colab_type": "code",
        "colab": {
          "base_uri": "https://localhost:8080/",
          "height": 34
        },
        "outputId": "b832d58c-52d4-412a-bd03-4d093004cd55"
      },
      "source": [
        "from sklearn import preprocessing , svm\n",
        "from sklearn.linear_model import LinearRegression \n",
        "from sklearn.model_selection import train_test_split\n",
        "import math\n",
        "\n",
        "\n",
        "forecast_col = 'Adj. Close'\n",
        "df.fillna(value=-99999, inplace=True)\n",
        "forecast_out = int(math.ceil(0.01*len(df)))\n",
        "\n",
        "df['label'] = df[forecast_col].shift(-forecast_out)\n",
        "df.dropna(inplace=True)\n",
        "\n",
        "\n",
        "X = np.array(df.drop(['label'], 1))\n",
        "y = np.array(df['label'])\n",
        "\n",
        "X = preprocessing.scale(X)\n",
        "y = np.array(df['label'])\n",
        "\n",
        "\n",
        "X_train, X_test, y_train, y_test = train_test_split(X, y, test_size=0.25)\n",
        " \n",
        " # using support vector regression\n",
        "clf = svm.SVR()\n",
        "\n",
        "\n",
        "clf.fit(X_train, y_train)\n",
        "\n",
        "confidence = clf.score(X_test, y_test)\n",
        "\n",
        "print(confidence)\n",
        "\n",
        "\n"
      ],
      "execution_count": 27,
      "outputs": [
        {
          "output_type": "stream",
          "text": [
            "0.8881099038388639\n"
          ],
          "name": "stdout"
        }
      ]
    },
    {
      "cell_type": "code",
      "metadata": {
        "id": "jvIG6Pfc3cv4",
        "colab_type": "code",
        "colab": {
          "base_uri": "https://localhost:8080/",
          "height": 34
        },
        "outputId": "cef34d62-9997-4430-9aa8-7092a5b7365c"
      },
      "source": [
        "\n",
        "# using linear regression\n",
        "\n",
        "clf = LinearRegression(n_jobs=-1)\n",
        "clf.fit(X_train, y_train)\n",
        "\n",
        "confidence = clf.score(X_test, y_test)\n",
        "print(confidence)"
      ],
      "execution_count": 30,
      "outputs": [
        {
          "output_type": "stream",
          "text": [
            "0.9767662651884279\n"
          ],
          "name": "stdout"
        }
      ]
    },
    {
      "cell_type": "code",
      "metadata": {
        "id": "mCrnozz_4riN",
        "colab_type": "code",
        "colab": {
          "base_uri": "https://localhost:8080/",
          "height": 84
        },
        "outputId": "d3540cb8-0e52-4ebe-f557-dbea5b069da3"
      },
      "source": [
        "for k in ['linear', 'poly', 'rbf', 'sigmoid']:\n",
        "  clf = svm.SVR(kernel=k)\n",
        "  clf.fit(X_train, y_train)\n",
        "  confidence = clf.score(X_test, y_test)\n",
        "  print(k, confidence)"
      ],
      "execution_count": 32,
      "outputs": [
        {
          "output_type": "stream",
          "text": [
            "linear 0.9761202633452265\n",
            "poly 0.7249673745078482\n",
            "rbf 0.8881099038388639\n",
            "sigmoid 0.7419464217342209\n"
          ],
          "name": "stdout"
        }
      ]
    }
  ]
}