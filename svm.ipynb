{
  "nbformat": 4,
  "nbformat_minor": 0,
  "metadata": {
    "colab": {
      "name": "svm.ipynb",
      "provenance": [],
      "private_outputs": true,
      "mount_file_id": "1kbrnIq-rr4mpsUQ-52PYgH_CRQSxK9T2",
      "authorship_tag": "ABX9TyPQkPItsXPUal5mN5RoTTet",
      "include_colab_link": true
    },
    "kernelspec": {
      "name": "python3",
      "display_name": "Python 3"
    }
  },
  "cells": [
    {
      "cell_type": "markdown",
      "metadata": {
        "id": "view-in-github",
        "colab_type": "text"
      },
      "source": [
        "<a href=\"https://colab.research.google.com/github/charu11/ml_basics/blob/ml_basic/svm.ipynb\" target=\"_parent\"><img src=\"https://colab.research.google.com/assets/colab-badge.svg\" alt=\"Open In Colab\"/></a>"
      ]
    },
    {
      "cell_type": "code",
      "metadata": {
        "id": "EzY2UYtignL9",
        "colab_type": "code",
        "colab": {}
      },
      "source": [
        "import numpy as np\n",
        "import pandas as pd\n",
        "from sklearn import preprocessing, svm\n",
        "from sklearn.model_selection import train_test_split \n",
        "\n"
      ],
      "execution_count": 0,
      "outputs": []
    },
    {
      "cell_type": "code",
      "metadata": {
        "id": "ILVow2FSrWoa",
        "colab_type": "code",
        "colab": {}
      },
      "source": [
        "df = pd.read_csv('/content/drive/My Drive/ML_with_pyhton/breast-cancer-wisconsin.data')\n",
        "df.replace('?', -99999, inplace=True)\n",
        "df.drop(['id'], 1, inplace=True)\n",
        "\n",
        "X = np.array(df.drop([' class'], 1))\n",
        "y = np.array(df[' class'])\n"
      ],
      "execution_count": 0,
      "outputs": []
    },
    {
      "cell_type": "code",
      "metadata": {
        "id": "dBccal52si6a",
        "colab_type": "code",
        "colab": {}
      },
      "source": [
        "X_train, X_test, y_train, y_test = train_test_split(X,y, test_size=0.3)"
      ],
      "execution_count": 0,
      "outputs": []
    },
    {
      "cell_type": "code",
      "metadata": {
        "id": "MXlrkCsns7QI",
        "colab_type": "code",
        "colab": {}
      },
      "source": [
        "clf = svm.SVC()\n",
        "\n",
        "clf.fit(X_train, y_train)\n",
        "confidence = clf.score(X_test, y_test)\n",
        "print(confidence)"
      ],
      "execution_count": 0,
      "outputs": []
    },
    {
      "cell_type": "code",
      "metadata": {
        "id": "PosUvVB4tVX6",
        "colab_type": "code",
        "colab": {}
      },
      "source": [
        "ex_measure = np.array([[4,2,1,1,1,2,3,2,1]])\n",
        "ex_measure = ex_measure.reshape(len(ex_measure), -1)\n",
        "prediction = clf.predict(ex_measure)\n",
        "print(prediction)"
      ],
      "execution_count": 0,
      "outputs": []
    }
  ]
}