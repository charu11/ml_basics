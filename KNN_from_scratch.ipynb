{
  "nbformat": 4,
  "nbformat_minor": 0,
  "metadata": {
    "colab": {
      "name": "KNN_from_scratch.ipynb",
      "provenance": [],
      "private_outputs": true,
      "mount_file_id": "1yMMO7NRlq2EQxoJmMFhXTnsEC47Y0GL7",
      "authorship_tag": "ABX9TyNnBh5zMBSU9zkPmj5DjGep",
      "include_colab_link": true
    },
    "kernelspec": {
      "name": "python3",
      "display_name": "Python 3"
    }
  },
  "cells": [
    {
      "cell_type": "markdown",
      "metadata": {
        "id": "view-in-github",
        "colab_type": "text"
      },
      "source": [
        "<a href=\"https://colab.research.google.com/github/charu11/ml_basics/blob/ml_basic/KNN_from_scratch.ipynb\" target=\"_parent\"><img src=\"https://colab.research.google.com/assets/colab-badge.svg\" alt=\"Open In Colab\"/></a>"
      ]
    },
    {
      "cell_type": "code",
      "metadata": {
        "id": "fhmEmAeY0n5p",
        "colab_type": "code",
        "colab": {}
      },
      "source": [
        "#### example for euclidean distance\n",
        "\n",
        "\n",
        "\n",
        "# from math import sqrt\n",
        "\n",
        "# plot1 = [1,3]\n",
        "# plot2 = [2,5]\n",
        "\n",
        "# euclidean_diastance = sqrt((plot1[0]-plot2[0])**2 + (plot1[1] - plot2[1])**2)\n",
        "# print(euclidean_diastance)"
      ],
      "execution_count": 0,
      "outputs": []
    },
    {
      "cell_type": "code",
      "metadata": {
        "id": "81-pzzeq-5F8",
        "colab_type": "code",
        "colab": {}
      },
      "source": [
        "import numpy as np\n",
        "import warnings\n",
        "from math import sqrt\n",
        "import pandas as pd\n",
        "import random\n",
        "\n",
        "def k_nearest_neighbors(data, predict, k=3):\n",
        "    if len(data) >= k:\n",
        "        warnings.warn('K is set to a value less than total voting groups!')\n",
        "        \n",
        "    distances = []\n",
        "    for group in data:\n",
        "        for features in data[group]:\n",
        "            euclidean_distance = np.linalg.norm(np.array(features)-np.array(predict))\n",
        "            distances.append([euclidean_distance,group])\n",
        "\n",
        "    votes = [i[1] for i in sorted(distances)[:k]]\n",
        "    vote_result = Counter(votes).most_common(1)[0][0]\n",
        "    return vote_result\n",
        "\n",
        "\n",
        "df = pd.read_csv('/content/drive/My Drive/ML_with_pyhton/breast-cancer-wisconsin.data')\n",
        "df.replace('?', -99999, inplace=True)\n",
        "df.drop(['id'] , 1, inplace=True)\n",
        "full_data = df.astype(float).values.tolist()\n",
        "\n",
        "random.shuffle(full_data)\n",
        "test_size = 0.2\n",
        "train_set = {2:[], 4:[]}\n",
        "test_set = {2:[], 4:[]}\n",
        "\n",
        "train_data = full_data[:-int(test_size * len(full_data))]\n",
        "test_data = full_data[-int(test_size * len(full_data)):] \n",
        "\n",
        "for i in train_data:\n",
        "  train_set[i[-1]].append(i[:-1])\n",
        "\n",
        "for i in test_data:\n",
        "  test_set[i[-1]].append(i[:-1])\n",
        "\n",
        "\n",
        "# training and testing\n",
        "\n",
        "correct = 0\n",
        "total = 0\n",
        "\n",
        "for group in test_set:\n",
        "  for data in test_set[group]:\n",
        "    vote = k_nearest_neighbors(train_set, data, k=5)\n",
        "    if group == vote:\n",
        "      correct += 1\n",
        "    total += 1\n",
        "\n",
        "print('Accuracy is :', correct/total)\n",
        "\n",
        "\n",
        "\n"
      ],
      "execution_count": 0,
      "outputs": []
    },
    {
      "cell_type": "code",
      "metadata": {
        "id": "db6ar5hHA4Ep",
        "colab_type": "code",
        "colab": {}
      },
      "source": [
        "\n",
        "\n",
        "\n",
        "\n"
      ],
      "execution_count": 0,
      "outputs": []
    }
  ]
}