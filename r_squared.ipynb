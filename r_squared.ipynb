{
  "nbformat": 4,
  "nbformat_minor": 0,
  "metadata": {
    "colab": {
      "name": "r_squared.ipynb",
      "provenance": [],
      "private_outputs": true,
      "authorship_tag": "ABX9TyNWgUXwPHNEZulnlo/o3cJR",
      "include_colab_link": true
    },
    "kernelspec": {
      "name": "python3",
      "display_name": "Python 3"
    }
  },
  "cells": [
    {
      "cell_type": "markdown",
      "metadata": {
        "id": "view-in-github",
        "colab_type": "text"
      },
      "source": [
        "<a href=\"https://colab.research.google.com/github/charu11/ml_basics/blob/ml_basic/r_squared.ipynb\" target=\"_parent\"><img src=\"https://colab.research.google.com/assets/colab-badge.svg\" alt=\"Open In Colab\"/></a>"
      ]
    },
    {
      "cell_type": "code",
      "metadata": {
        "id": "wYM2xnn37vO6",
        "colab_type": "code",
        "colab": {}
      },
      "source": [
        "from statistics import mean\n",
        "import numpy as np\n",
        "\n",
        "\n"
      ],
      "execution_count": 0,
      "outputs": []
    },
    {
      "cell_type": "code",
      "metadata": {
        "id": "LSkje8NICoIb",
        "colab_type": "code",
        "colab": {}
      },
      "source": [
        "xs = np.array([1, 2, 3 ,4, 5], dtype=np.float64)\n",
        "ys = np.array([5, 4, 6, 5, 6], dtype=np.float64)\n",
        "\n",
        "def best_fit_slope_and_intercept(xs,ys):\n",
        "    m = (((mean(xs)*mean(ys)) - mean(xs*ys)) /\n",
        "         ((mean(xs)*mean(xs)) - mean(xs*xs)))\n",
        "    b = mean(ys) - m*mean(xs)\n",
        "    return m, b\n",
        "\n",
        "\n",
        "\n",
        "def squared_error(ys_orig, ys_line):\n",
        "  return sum((ys_line - ys_orig) * (ys_line - ys_orig))\n"
      ],
      "execution_count": 0,
      "outputs": []
    },
    {
      "cell_type": "code",
      "metadata": {
        "id": "JwBIpXAvDbTF",
        "colab_type": "code",
        "colab": {}
      },
      "source": [
        "def coefficient_of_determination(ys_orig, ys_line):\n",
        "  y_mean_line = [mean(ys_orig) for y in ys_orig]\n",
        "  squared_error_regr = squared_error(ys_orig, ys_line)\n",
        "  squared_error_y_mean = squared_error(ys_orig, y_mean_line)\n",
        "  return 1 - (squared_error_regr/squared_error_y_mean)\n",
        "\n",
        "m, b = best_fit_slope_and_intercept(xs,ys)\n",
        "regression_line = [(m*x)+b for x in xs]\n"
      ],
      "execution_count": 0,
      "outputs": []
    },
    {
      "cell_type": "code",
      "metadata": {
        "id": "StkW29urEaqR",
        "colab_type": "code",
        "colab": {}
      },
      "source": [
        "r_squared = coefficient_of_determination(ys, regression_line)\n",
        "print(r_squared)"
      ],
      "execution_count": 0,
      "outputs": []
    }
  ]
}