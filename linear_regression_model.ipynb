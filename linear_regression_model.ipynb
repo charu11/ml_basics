{
  "nbformat": 4,
  "nbformat_minor": 0,
  "metadata": {
    "colab": {
      "name": "linear_regression_model.ipynb",
      "provenance": [],
      "private_outputs": true,
      "authorship_tag": "ABX9TyNyB7zsaK2TBHwu0JzD+xm7",
      "include_colab_link": true
    },
    "kernelspec": {
      "name": "python3",
      "display_name": "Python 3"
    }
  },
  "cells": [
    {
      "cell_type": "markdown",
      "metadata": {
        "id": "view-in-github",
        "colab_type": "text"
      },
      "source": [
        "<a href=\"https://colab.research.google.com/github/charu11/ml_basics/blob/ml_basic/linear_regression_model.ipynb\" target=\"_parent\"><img src=\"https://colab.research.google.com/assets/colab-badge.svg\" alt=\"Open In Colab\"/></a>"
      ]
    },
    {
      "cell_type": "code",
      "metadata": {
        "id": "q4T9qZJxdRRs",
        "colab_type": "code",
        "colab": {}
      },
      "source": [
        "# y = mx +b\n",
        "\n",
        "from statistics import mean\n",
        "import numpy as np\n",
        "\n",
        "xs = np.array([1, 2, 3, 4 ,8 ], dtype=np.float64) \n",
        "ys = np.array([1, 2 ,3, 2 ,5 ], dtype=np.float64)\n",
        "\n"
      ],
      "execution_count": 0,
      "outputs": []
    },
    {
      "cell_type": "code",
      "metadata": {
        "id": "ft4qqc1Ce-ck",
        "colab_type": "code",
        "colab": {}
      },
      "source": [
        "def best_fit_slope_and_intercept(xs, ys):\n",
        "  m = (((mean(xs) * mean(ys))- mean(xs*ys))/\n",
        "       ((mean(xs)**2)-mean(xs**2)))\n",
        "   \n",
        "  # an according to the formula, b = y-mx\n",
        "  b = mean(ys) - m * mean(xs)\n",
        "  return m, b\n",
        "\n",
        "m, b = best_fit_slope_and_intercept(xs, ys)\n",
        "print(m, b) # m is the gradient \n",
        "\n",
        "# m= ( x(hat)*y(hat) - xy(hat) ) / ( x(hat)**2 - x**2(hat) )"
      ],
      "execution_count": 0,
      "outputs": []
    },
    {
      "cell_type": "code",
      "metadata": {
        "id": "ERlXHxPVibjM",
        "colab_type": "code",
        "colab": {}
      },
      "source": [
        "import matplotlib.pyplot as plt\n",
        "from matplotlib import style\n",
        "style.use('ggplot')\n",
        "\n",
        "\n",
        "regression_line = [(m*x)+b for x in xs]\n",
        "regression_line = []\n",
        "for x in xs:\n",
        "  regression_line.append((m*x)+b)\n",
        "\n",
        "\n",
        "plt.scatter(xs, ys, color= '#003F72')\n",
        "plt.plot(xs, regression_line)\n",
        "plt.show()\n",
        "\n"
      ],
      "execution_count": 0,
      "outputs": []
    },
    {
      "cell_type": "code",
      "metadata": {
        "id": "vPwFrwrnkpQl",
        "colab_type": "code",
        "colab": {}
      },
      "source": [
        "\n",
        "predict_x = 7\n",
        "predict_y = (m*predict_x)+b\n",
        "print(predict_y)\n",
        "\n",
        "plt.scatter(xs, ys, color= '#003F72', label='data')\n",
        "plt.plot(xs, regression_line, label='regression_line' )\n",
        "plt.legend(loc=4)\n",
        "plt.show()\n",
        "\n",
        "\n"
      ],
      "execution_count": 0,
      "outputs": []
    }
  ]
}